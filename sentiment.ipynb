{
 "cells": [
  {
   "cell_type": "code",
   "execution_count": 93,
   "metadata": {
    "collapsed": true
   },
   "outputs": [],
   "source": [
    "import sys\n",
    "import json\n",
    "import http.client, urllib.request, urllib.parse, urllib.error, base64\n",
    "import tweepy\n",
    "import pickle\n",
    "import re\n",
    "from os import listdir\n",
    "from os.path import isfile, join\n",
    "import math\n",
    "\n",
    "config = {}\n",
    "path = 'C:\\\\Users\\\\chenwang\\\\Documents\\\\courses\\\\FA16\\CS597\\\\twitterMining\\\\'\n",
    "initialSet_path = 'C:\\\\Users\\\\chenwang\\\\Documents\\\\courses\\\\FA16\\\\CS597\\\\twitterMining\\\\InitialSet\\\\Football\\\\location\\\\'\n",
    "\n",
    "config['KEYS'] = {'consumer_key': ['mVJcyNN5qFyk7GdBJvENVc329', 'anqjETSjwaDqA9LBt0MGwub60','vDnzvZFFwXFgI2ftQxYWV2XZo',\n",
    "                                  'sAkNaJxJWgPilhidaNJ48kmCo','tO2Bzbkexyf57LSF6aJwACXfs'],\n",
    "                  'consumer_secret': ['DbXUXB7EN77HmzQahobHeTPSWgcNI9t8kKzDoe5twfTORnjXxf',\\\n",
    "                                       'AGTAiJhOrb2gPSbW1F5Rclu0Ns7pTZthPhJ3i7ySFNWwdheqim',\\\n",
    "                                     '5HxLPob3kGqgauc5HuNszFw0uoLjsK3JHD0IqUNEVbNAIVdRKQ',\\\n",
    "                                      'dPcVmoYaEGhsWC5djrEFsjfNdO8DmFecmSnBRjL63y0Sg9pCtl',\n",
    "                                     'OIEIE1Pu01eTieDffG13kJM78spAPHZtKk2IZ1yGkU0eoKvVxn'],\n",
    "                  'access_token': ['707770026573561856-Vfqm0iXrsBvFL2prQMQ2Gzu9eawWYIj',\\\n",
    "                                    '707770026573561856-diXgIsR0UCYM3CHYCUoU38hcp8Qk8Pj',\\\n",
    "                                  '707770026573561856-9BcLFzjLrkVdxeG0Z3dmqYhsCDqUQ2t',\\\n",
    "                                  '707770026573561856-Sua2gUtlWTxTik70a0dUba0SvayeQgU',\\\n",
    "                                  '707770026573561856-Oi1nNb4Ih0SJyizIwToY3PhjLymGkcl'],\n",
    "                  'access_token_secret': ['HSMqS4YkDBcB6mm9JL3vd6VeKlkKmNdMxmJ0inJQwNhXS',\\\n",
    "                                           'GnqrY0AoeOuK7cgaF2yRBmcJGcc814bBIONMREN8gU7xu',\\\n",
    "                                         'e2OfQnQGnweLygFxJRFCUa9PZhOZXyCcaEipMpnlmABqj',\\\n",
    "                                         'Stj2TQtwsrTQFkdronpZDUyrl9g3slZjEMxgIYznbmSzy',\\\n",
    "                                         'Cp3d4xKdTfPyJq6y7uLeRLv77kTjZmEIpGYtiWrrqvK6i']\n",
    "                 }\n",
    "\n",
    "consumer_key = config['KEYS']['consumer_key']    # list\n",
    "consumer_secret = config['KEYS']['consumer_secret']\n",
    "access_token = config['KEYS']['access_token']\n",
    "access_token_secret = config['KEYS']['access_token_secret']\n",
    "\n",
    "# later add {if it's not exist then write, otherwise skip}\n",
    "with open(path + \"CONFIG_PATH.pickle\", 'wb+') as f:\n",
    "        pickle.dump(config, f)\n",
    "\n",
    "def set_api_key(i):\n",
    "    \n",
    "    auth = tweepy.OAuthHandler(consumer_key[i], consumer_secret[i])\n",
    "    auth.set_access_token(access_token[i], access_token_secret[i])\n",
    "    api = tweepy.API(auth, wait_on_rate_limit= True,wait_on_rate_limit_notify=True)\n",
    "    \n",
    "    return api\n",
    "\n",
    "def SA(body):\n",
    "    # Azure portal URL.\n",
    "    base_url = 'https://westus.api.cognitive.microsoft.com/'\n",
    "    # Your account key goes here.\n",
    "    account_key = '67c00f5a10a54dbe94e199d3e2fe5dc7'\n",
    "    headers = {'Content-Type':'application/json', 'Ocp-Apim-Subscription-Key':account_key}         \n",
    "\n",
    "    params = urllib.parse.urlencode({})\n",
    "    try:\n",
    "        conn = http.client.HTTPSConnection('westus.api.cognitive.microsoft.com')\n",
    "        conn.request(\"POST\", \"/text/analytics/v2.0/sentiment?%s\" % params, str(body), headers)\n",
    "        response = conn.getresponse()\n",
    "        data = response.read()\n",
    "        data = json.loads(data.decode('utf-8'))\n",
    "        #print(data)\n",
    "        conn.close()\n",
    "    except Exception as e:\n",
    "        print(\"[Errno {0}] {1} \\n\".format(e.errno, e.strerror))\n",
    "    \n",
    "    return data\n",
    "\n",
    "def set_api_key(i):\n",
    "    \n",
    "    auth = tweepy.OAuthHandler(consumer_key[i], consumer_secret[i])\n",
    "    auth.set_access_token(access_token[i], access_token_secret[i])\n",
    "    api = tweepy.API(auth, wait_on_rate_limit= True,wait_on_rate_limit_notify=True)\n",
    "    \n",
    "    return api"
   ]
  },
  {
   "cell_type": "code",
   "execution_count": 94,
   "metadata": {
    "collapsed": false
   },
   "outputs": [],
   "source": [
    "api = set_api_key(0)"
   ]
  },
  {
   "cell_type": "raw",
   "metadata": {},
   "source": [
    "demo_tweets = api.search(q='#ThisYearImThankfulFor')\n",
    "for i in range(len(demo_tweets)):\n",
    "    print('user:', demo_tweets[i].user.screen_name)\n",
    "    print('say:', demo_tweets[i].text)\n",
    "    print('--------------------------------------------------------------------------------------------------------------------')"
   ]
  },
  {
   "cell_type": "code",
   "execution_count": 95,
   "metadata": {
    "collapsed": false
   },
   "outputs": [],
   "source": [
    "pattern = re.compile(r\"#.+\")\n",
    "body = {}\n",
    "body[\"documents\"] = []\n",
    "\n",
    "for i in range(len(demo_tweets)):\n",
    "    text = pattern.search(demo_tweets[i].text).group(0)\n",
    "    tweet_dict = {}\n",
    "    tweet_dict[\"language\"] = \"en\"\n",
    "    tweet_dict[\"id\"] = str(i)\n",
    "    tweet_dict[\"text\"] = text\n",
    "    \n",
    "    body[\"documents\"].append(tweet_dict) \n",
    "\n",
    "body= json.dumps(body)\n",
    "data = SA(body)"
   ]
  },
  {
   "cell_type": "code",
   "execution_count": 96,
   "metadata": {
    "collapsed": false
   },
   "outputs": [
    {
     "data": {
      "text/plain": [
       "{'documents': [{'id': '0', 'score': 0.9892178},\n",
       "  {'id': '1', 'score': 0.7916217},\n",
       "  {'id': '2', 'score': 0.4435392},\n",
       "  {'id': '3', 'score': 0.7916217},\n",
       "  {'id': '4', 'score': 0.8009238},\n",
       "  {'id': '5', 'score': 0.5476956},\n",
       "  {'id': '6', 'score': 0.8738352},\n",
       "  {'id': '7', 'score': 0.3985217},\n",
       "  {'id': '8', 'score': 0.1382712},\n",
       "  {'id': '9', 'score': 0.9408978},\n",
       "  {'id': '10', 'score': 0.7916217},\n",
       "  {'id': '11', 'score': 0.6076832},\n",
       "  {'id': '12', 'score': 0.7644488},\n",
       "  {'id': '13', 'score': 0.7916217},\n",
       "  {'id': '14', 'score': 0.4315963}],\n",
       " 'errors': []}"
      ]
     },
     "execution_count": 96,
     "metadata": {},
     "output_type": "execute_result"
    }
   ],
   "source": [
    "data"
   ]
  },
  {
   "cell_type": "code",
   "execution_count": 97,
   "metadata": {
    "collapsed": false
   },
   "outputs": [
    {
     "name": "stdout",
     "output_type": "stream",
     "text": [
      "user: ZenRand\n",
      "say: RT @nancywriteon: #ThisYearImThankfulFor all the great fun and funny people who have made me laugh and smile even when I didn't think that…\n",
      "--------------------------------------------------------------------------------------------------------------------\n",
      "user: hayleyjx2016x\n",
      "say: RT @AdamFraserUK: #ThisYearImThankfulFor everyone that is reading this tweet ❤️❤️\n",
      "--------------------------------------------------------------------------------------------------------------------\n",
      "user: 5sosfangirlMorg\n",
      "say: RT @threeprc: #ThisYearImThankfulFor literally nothing lmao 2016 is absolute trash\n",
      "--------------------------------------------------------------------------------------------------------------------\n"
     ]
    }
   ],
   "source": [
    "print('user:', demo_tweets[0].user.screen_name)\n",
    "print('say:', demo_tweets[0].text)\n",
    "print('--------------------------------------------------------------------------------------------------------------------')\n",
    "print('user:', demo_tweets[9].user.screen_name)\n",
    "print('say:', demo_tweets[9].text)\n",
    "print('--------------------------------------------------------------------------------------------------------------------')\n",
    "print('user:', demo_tweets[8].user.screen_name)\n",
    "print('say:', demo_tweets[8].text)\n",
    "print('--------------------------------------------------------------------------------------------------------------------')"
   ]
  },
  {
   "cell_type": "code",
   "execution_count": 69,
   "metadata": {
    "collapsed": false
   },
   "outputs": [
    {
     "name": "stdout",
     "output_type": "stream",
     "text": [
      "how man friends does 5sosfangirlMorg have? 475\n"
     ]
    }
   ],
   "source": [
    "friend_list = api.friends_ids(demo_tweets[8].user.id)\n",
    "print('how man friends does', demo_tweets[8].user.screen_name,'have?', len(friend_list))"
   ]
  },
  {
   "cell_type": "raw",
   "metadata": {},
   "source": [
    "happy_tweets = []\n",
    "for id in friend_list:\n",
    "    try:\n",
    "        happy_tweets.append(api.user_timeline(user_id=id, count=500))\n",
    "    except:\n",
    "        print('error')\n",
    "        pass"
   ]
  },
  {
   "cell_type": "raw",
   "metadata": {},
   "source": [
    "with open (demo_tweets[8].user.screen_name + '_04.pickle','wb+') as f:\n",
    "    pickle.dump(happy_tweets[300:400],f)"
   ]
  },
  {
   "cell_type": "code",
   "execution_count": 89,
   "metadata": {
    "collapsed": false
   },
   "outputs": [],
   "source": [
    "def find_hashtag(happy_tweets):\n",
    "    # p = re.compile(r\":.+\")\n",
    "    body = {}\n",
    "    body[\"documents\"] = []\n",
    "    num = 0\n",
    "    for i in range(len(happy_tweets)):\n",
    "\n",
    "        flag = False\n",
    "\n",
    "        if len(happy_tweets[i])!= 0:\n",
    "\n",
    "            for j in range(len(happy_tweets[i])):\n",
    "                pattern = re.compile(r\"#thisyearimthankfulfor|(thankful for)\")\n",
    "                match = pattern.search(happy_tweets[i][j].text.lower())\n",
    "\n",
    "\n",
    "                if match:\n",
    "                    flag = True\n",
    "\n",
    "                    num += 1\n",
    "                    print('No.',num,'\\t', happy_tweets[i][j].text)\n",
    "                    tweet_dict = {}\n",
    "                    tweet_dict[\"language\"] = \"en\"\n",
    "                    tweet_dict[\"id\"] = str(happy_tweets[i][j].user.id) + '_' + str(j)\n",
    "                    tweet_dict[\"text\"] = happy_tweets[i][j].text\n",
    "                    body[\"documents\"].append(tweet_dict) \n",
    "\n",
    "\n",
    "            if flag == False:\n",
    "                # print('NO MATCHING TWEETS AT ALL\\n')\n",
    "                pass\n",
    "\n",
    "        else: \n",
    "            pass\n",
    "            #print('ERROR\\n')\n",
    "\n",
    "    return body"
   ]
  },
  {
   "cell_type": "code",
   "execution_count": 100,
   "metadata": {
    "collapsed": false
   },
   "outputs": [
    {
     "name": "stdout",
     "output_type": "stream",
     "text": [
      "No. 1 \t RT @deluxesyko: #ThisYearImThankfulFor @BadRepAiono @refinedjauregui @InfinityforBeau @gagasdolcevita @InfinityforBeau @KylieJSlaysx makeup…\n",
      "No. 2 \t #ThisYearImThankfulFor @xprinxcessx_\n",
      "No. 3 \t #ThisYearImThankfulFor @refinedjauregui\n",
      "No. 4 \t #ThisYearImThankfulFor @deluxesyko\n",
      "No. 5 \t #ThisYearImThankfulFor the shit my fake friends put me through to help me realise I don't need them\n",
      "No. 6 \t #ThisYearImThankfulFor my family\n",
      "No. 7 \t #ThisYearImThankfulFor @KylieJSlaysx\n",
      "No. 8 \t #ThisYearImThankfulFor @InfinityforBeau\n",
      "No. 9 \t #ThisYearImThankfulFor @forhimpreda\n",
      "No. 10 \t #ThisYearImThankfulFor @fuxkniaal\n",
      "No. 11 \t RT @InfinityforBeau: #ThisYearImThankfulFor @BadRepAiono\n",
      "No. 12 \t waking up every day to 1 million + ppl caring about me is something i'm so thankful for, all i wanna do is make u all feel the same way!!\n",
      "No. 13 \t HAPPY BIRTHDAY TO THE LOML💕 I'm so thankful for you &amp; our friendship:) thanks for making me laugh so hard I cry pre… https://t.co/MZhJrAsZkQ\n",
      "No. 14 \t I feel blessed. So thankful for everything I have in my life right now 🙏🏼\n",
      "No. 15 \t Fast forward to this year and we've already done two international tours?! How crazy is that?! We're so thankful for you guys! ❤️\n",
      "No. 16 \t thankful for abs &amp; v-lines 😋💦🙌🏼 https://t.co/KDTwVzbvTt\n",
      "No. 17 \t thankful for my mom and my fans xoxo https://t.co/VP1QsXqSvS\n",
      "No. 18 \t RT @purposehoIy: #ThisYearImThankfulFor nothing the world should've ended in 2012\n",
      "No. 19 \t RT @threeprc: #ThisYearImThankfulFor literally nothing lmao 2016 is absolute trash\n",
      "No. 20 \t Thankful for everyday, every breath and every experience :)\n",
      "No. 21 \t @jeyyounit11 yeah I am definitely thankful for the opportunity to create content and share it haha it was a learning experience for sure :)\n",
      "No. 22 \t Good morning sunshine! What are 3 things you're thankful for today? :)\n",
      "No. 23 \t RT @kevinguillerm0: \"Fear indicates that your horizons are about to broaden.\" @thejeffreymarsh so thankful for this book! #howtobeyou 💗\n",
      "No. 24 \t RT @threeprc: #ThisYearImThankfulFor literally nothing lmao 2016 is absolute trash\n",
      "No. 25 \t Be thankful for life. Be thankful for every breath. It can be gone in an instant.\n",
      "No. 26 \t I'm thankful for my friends.\n",
      "No. 27 \t RT @JenArnoldMD: What are you #thankful for this year? #happythanksgiving https://t.co/ii4xotEnH5\n",
      "No. 28 \t LAST DAY TO VOTE TO THE LATIN AMERICAN MUSIC AWARDS!!! You guys have been so dedicated to voting everyday and I'm so thankful for that!\n",
      "No. 29 \t So thankful for Kawhi Leonard https://t.co/Qw0L7MRGUu\n",
      "No. 30 \t Iam thankful for how hard this man works. And so much more 💗💏👨‍👩‍👧 https://t.co/i4dZZW3bzb\n",
      "No. 31 \t So very thankful for the family Kevin and I have started 💗😇 https://t.co/rdAIc4wzFY\n",
      "No. 32 \t RT @Mvcxs: So thankful for all my loved ones. Without you we wouldn't be where we are.\n",
      "No. 33 \t RT @J_Danglefest2: So thankful for this new opportunity to play Division 1 college hockey at Union College! Thank you all for the support.…\n",
      "No. 34 \t @superiorsivan better now that I've eaten!! Thankful for food and grateful for my life\n",
      "No. 35 \t RT @ClaudiaShiff: @DeanSherwood DEAN, THIS IS AMAZING! BARCELONA FANS ARE ETERNALLY THANKFUL FOR THIS.\n",
      "SEE YOU TONIGHT IN MILAN xx https://…\n",
      "No. 36 \t RT @brebrebrebrenda: Thankful for the existence of @5SOS can't wait to see you again🤘🏼❤️ https://t.co/a6tDqafAkF\n"
     ]
    }
   ],
   "source": [
    "body = find_hashtag(happy_tweets)"
   ]
  },
  {
   "cell_type": "code",
   "execution_count": 101,
   "metadata": {
    "collapsed": false
   },
   "outputs": [],
   "source": [
    "body= json.dumps(body)\n",
    "data = SA(body)"
   ]
  },
  {
   "cell_type": "code",
   "execution_count": 127,
   "metadata": {
    "collapsed": false
   },
   "outputs": [
    {
     "data": {
      "text/plain": [
       "[{'id': '141219065_15', 'score': 0.89977},\n",
       " {'id': '141219065_22', 'score': 0.6189865},\n",
       " {'id': '141219065_23', 'score': 0.6200376},\n",
       " {'id': '141219065_24', 'score': 0.6187238},\n",
       " {'id': '141219065_25', 'score': 0.07205632},\n",
       " {'id': '141219065_26', 'score': 0.5711949},\n",
       " {'id': '141219065_27', 'score': 0.6192492},\n",
       " {'id': '141219065_28', 'score': 0.6200376},\n",
       " {'id': '141219065_29', 'score': 0.6189865},\n",
       " {'id': '141219065_30', 'score': 0.6173604},\n",
       " {'id': '141219065_32', 'score': 0.775016},\n",
       " {'id': '779898205_175', 'score': 0.7517222},\n",
       " {'id': '3033036600_18', 'score': 0.9961587},\n",
       " {'id': '2488576712_135', 'score': 0.8676524},\n",
       " {'id': '1949322061_62', 'score': 0.9909897},\n",
       " {'id': '2591587895_146', 'score': 0.9529359},\n",
       " {'id': '26090319_175', 'score': 0.9349071},\n",
       " {'id': '3130114263_1', 'score': 0.6339478},\n",
       " {'id': '3130114263_2', 'score': 0.2595719},\n",
       " {'id': '125806240_84', 'score': 0.8470661},\n",
       " {'id': '125806240_85', 'score': 0.9967823},\n",
       " {'id': '125806240_96', 'score': 0.9955205},\n",
       " {'id': '16615740_66', 'score': 0.9828724},\n",
       " {'id': '3434573933_84', 'score': 0.2595719},\n",
       " {'id': '363130283_16', 'score': 0.9241164},\n",
       " {'id': '363130283_129', 'score': 0.8976715},\n",
       " {'id': '466070942_51', 'score': 0.9602709},\n",
       " {'id': '128023009_128', 'score': 0.987366},\n",
       " {'id': '23019705_45', 'score': 0.9757921},\n",
       " {'id': '122530604_57', 'score': 0.8882963},\n",
       " {'id': '122530604_59', 'score': 0.9469669},\n",
       " {'id': '64266937_198', 'score': 0.9158468},\n",
       " {'id': '1126004070_66', 'score': 0.9992996},\n",
       " {'id': '53338746_123', 'score': 0.9938536},\n",
       " {'id': '30974408_38', 'score': 0.9728624},\n",
       " {'id': '264107729_162', 'score': 0.8098922}]"
      ]
     },
     "execution_count": 127,
     "metadata": {},
     "output_type": "execute_result"
    }
   ],
   "source": [
    "data['documents']"
   ]
  },
  {
   "cell_type": "code",
   "execution_count": 128,
   "metadata": {
    "collapsed": false
   },
   "outputs": [
    {
     "name": "stdout",
     "output_type": "stream",
     "text": [
      "your friend KeeleyElise says:\n",
      " HAPPY BIRTHDAY TO THE LOML💕 I'm so thankful for you &amp; our friendship:) thanks for making me laugh so hard I cry pre… https://t.co/MZhJrAsZkQ\n",
      "your friend WeeklyChris says:\n",
      " @jeyyounit11 yeah I am definitely thankful for the opportunity to create content and share it haha it was a learning experience for sure :)\n",
      "your friend WeeklyChris says:\n",
      " Good morning sunshine! What are 3 things you're thankful for today? :)\n",
      "your friend ToreyKrug says:\n",
      " RT @J_Danglefest2: So thankful for this new opportunity to play Division 1 college hockey at Union College! Thank you all for the support.…\n",
      "your friend troyesivan says:\n",
      " @superiorsivan better now that I've eaten!! Thankful for food and grateful for my life\n"
     ]
    }
   ],
   "source": [
    "# top 5\n",
    "body_dict = json.loads(body)\n",
    "for elem in body_dict['documents']:\n",
    "    if elem['id'] == \"125806240_85\" or elem['id'] == \"125806240_96\":\n",
    "        print('your friend', api.get_user('125806240').screen_name, 'says:\\n', elem['text'])\n",
    "    if elem['id'] == '1126004070_66':\n",
    "        print('your friend', api.get_user('1126004070').screen_name, 'says:\\n', elem['text'])\n",
    "    if elem['id'] == \"3033036600_18\":\n",
    "        print('your friend', api.get_user('3033036600').screen_name, 'says:\\n', elem['text'])  \n",
    "    if elem['id'] == \"53338746_123\":\n",
    "        print('your friend', api.get_user('53338746').screen_name, 'says:\\n', elem['text'])  \n",
    "    "
   ]
  },
  {
   "cell_type": "code",
   "execution_count": null,
   "metadata": {
    "collapsed": true
   },
   "outputs": [],
   "source": [
    "api.get_"
   ]
  }
 ],
 "metadata": {
  "kernelspec": {
   "display_name": "Python 3",
   "language": "python",
   "name": "python3"
  },
  "language_info": {
   "codemirror_mode": {
    "name": "ipython",
    "version": 3
   },
   "file_extension": ".py",
   "mimetype": "text/x-python",
   "name": "python",
   "nbconvert_exporter": "python",
   "pygments_lexer": "ipython3",
   "version": "3.4.4"
  }
 },
 "nbformat": 4,
 "nbformat_minor": 0
}
